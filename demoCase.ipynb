{
 "cells": [
  {
   "cell_type": "markdown",
   "id": "29736742",
   "metadata": {},
   "source": [
    "## Demo POMDP: Early Lung Cancer Decision Model\n",
    "\n",
    "This simplified POMDP simulates sequential medical decision-making under uncertainty for early-stage lung cancer.\n",
    "\n",
    "### States (Hidden True Condition)\n",
    "- `Healthy`: No disease\n",
    "- `PreCancer`: Early signs of potential cancer\n",
    "- `Cancer`: Developed cancer\n",
    "\n",
    "### Actions (Medical Choices)\n",
    "- `Wait`: Take no action, monitor\n",
    "- `OrderCTScan`: Request a CT scan to get more information\n",
    "- `StartTreatment`: Begin treatment immediately\n",
    "\n",
    "### Observations\n",
    "- `NoAbnormality`: Scan appears normal\n",
    "- `SuspiciousFinding`: Scan shows something abnormal"
   ]
  },
  {
   "cell_type": "code",
   "execution_count": 1,
   "id": "971e2a87",
   "metadata": {},
   "outputs": [],
   "source": [
    "states = [\"Healthy\", \"PreCancer\", \"Cancer\"]\n",
    "actions = [\"Wait\", \"OrderCTScan\", \"StartTreatment\"]\n",
    "observations = [\"NoAbnormality\", \"SuspiciousFinding\"]"
   ]
  },
  {
   "cell_type": "markdown",
   "id": "83e4023b",
   "metadata": {},
   "source": [
    "## Transition Model: P(s' | s, a)\n",
    "\n",
    "This defines how the patient's **true health state** changes after each action.\n",
    "\n",
    "### Rules:\n",
    "\n",
    "- **Wait**:\n",
    "  - Healthy stays Healthy most of the time, but can develop PreCancer.\n",
    "  - PreCancer may progress to Cancer.\n",
    "  - Cancer remains Cancer.\n",
    "\n",
    "- **OrderCTScan**:\n",
    "  - Does **not affect the health state** — it's purely diagnostic.\n",
    "\n",
    "- **StartTreatment**:\n",
    "  - Can **regress disease** in PreCancer or Cancer.\n",
    "  - Health may improve with some probability.\n",
    "\n",
    "These transition probabilities are defined in a nested dictionary structure:  \n",
    "`T[action][current_state][next_state]`"
   ]
  },
  {
   "cell_type": "code",
   "execution_count": 2,
   "id": "2e50805c",
   "metadata": {},
   "outputs": [],
   "source": [
    "import numpy as np\n",
    "\n",
    "# Transition probabilities: T[action][current_state][next_state]\n",
    "T = {\n",
    "    \"Wait\": {\n",
    "        \"Healthy\":     {\"Healthy\": 0.9, \"PreCancer\": 0.1, \"Cancer\": 0.0},\n",
    "        \"PreCancer\":   {\"Healthy\": 0.0, \"PreCancer\": 0.7, \"Cancer\": 0.3},\n",
    "        \"Cancer\":      {\"Healthy\": 0.0, \"PreCancer\": 0.0, \"Cancer\": 1.0},\n",
    "    },\n",
    "    \"OrderCTScan\": {\n",
    "        \"Healthy\":     {\"Healthy\": 1.0, \"PreCancer\": 0.0, \"Cancer\": 0.0},\n",
    "        \"PreCancer\":   {\"Healthy\": 0.0, \"PreCancer\": 1.0, \"Cancer\": 0.0},\n",
    "        \"Cancer\":      {\"Healthy\": 0.0, \"PreCancer\": 0.0, \"Cancer\": 1.0},\n",
    "    },\n",
    "    \"StartTreatment\": {\n",
    "        \"Healthy\":     {\"Healthy\": 1.0, \"PreCancer\": 0.0, \"Cancer\": 0.0},\n",
    "        \"PreCancer\":   {\"Healthy\": 0.6, \"PreCancer\": 0.4, \"Cancer\": 0.0},\n",
    "        \"Cancer\":      {\"Healthy\": 0.2, \"PreCancer\": 0.3, \"Cancer\": 0.5},\n",
    "    }\n",
    "}"
   ]
  },
  {
   "cell_type": "markdown",
   "id": "16200395",
   "metadata": {},
   "source": [
    "## Observation Model: P(o | s', a)\n",
    "\n",
    "This defines how likely a doctor is to observe certain findings, given the **resulting state** `s'` after taking action `a`.\n",
    "\n",
    "### Rules:\n",
    "\n",
    "- **OrderCTScan**:\n",
    "  - High chance of detecting abnormalities if the patient is in `PreCancer` or `Cancer`.\n",
    "  - Small chance of false positives if the patient is `Healthy`.\n",
    "\n",
    "- **Wait** and **StartTreatment**:\n",
    "  - Do **not generate new diagnostic information** — always results in `NoAbnormality`.\n",
    "\n",
    "Observations depend on the **resulting (current) state** after transition, not the previous state.\n",
    "\n",
    "Structure:  \n",
    "`O[action][resulting_state][observation]`"
   ]
  },
  {
   "cell_type": "code",
   "execution_count": 3,
   "id": "2b7e279f",
   "metadata": {},
   "outputs": [],
   "source": [
    "# Observation model: O[action][resulting_state][observation]\n",
    "O = {\n",
    "    \"Wait\": {\n",
    "        \"Healthy\":     {\"NoAbnormality\": 1.0, \"SuspiciousFinding\": 0.0},\n",
    "        \"PreCancer\":   {\"NoAbnormality\": 1.0, \"SuspiciousFinding\": 0.0},\n",
    "        \"Cancer\":      {\"NoAbnormality\": 1.0, \"SuspiciousFinding\": 0.0},\n",
    "    },\n",
    "    \"OrderCTScan\": {\n",
    "        \"Healthy\":     {\"NoAbnormality\": 0.95, \"SuspiciousFinding\": 0.05},\n",
    "        \"PreCancer\":   {\"NoAbnormality\": 0.3,  \"SuspiciousFinding\": 0.7},\n",
    "        \"Cancer\":      {\"NoAbnormality\": 0.1,  \"SuspiciousFinding\": 0.9},\n",
    "    },\n",
    "    \"StartTreatment\": {\n",
    "        \"Healthy\":     {\"NoAbnormality\": 1.0, \"SuspiciousFinding\": 0.0},\n",
    "        \"PreCancer\":   {\"NoAbnormality\": 1.0, \"SuspiciousFinding\": 0.0},\n",
    "        \"Cancer\":      {\"NoAbnormality\": 1.0, \"SuspiciousFinding\": 0.0},\n",
    "    }\n",
    "}"
   ]
  },
  {
   "cell_type": "markdown",
   "id": "a76e1157",
   "metadata": {},
   "source": [
    "## Diagnosis Update (Bayes' Rule)\n",
    "\n",
    "After taking an action and receiving an observation, we update our **diagnosis** — the probability distribution over the patient's true condition — using:\n",
    "\n",
    "$$\n",
    "\\text{diagnosis}(s') = \\eta \\cdot P(o \\mid s', a) \\cdot \\sum_{s} P(s' \\mid s, a) \\cdot \\text{diagnosis}(s)\n",
    "$$\n",
    "\n",
    "Where:\n",
    "\n",
    "- `diagnosis(s)`: current diagnosis (subjective probability) for state $s$\n",
    "- $P(s' \\mid s, a)$: transition probability to resulting state $s'$\n",
    "- $P(o \\mid s', a)$: observation likelihood in resulting state $s'$\n",
    "- $\\eta$: normalization constant to ensure probabilities sum to 1\n",
    "\n",
    "This update is implemented in the `update_diagnosis` function."
   ]
  },
  {
   "cell_type": "code",
   "execution_count": 4,
   "id": "0748da5f",
   "metadata": {},
   "outputs": [],
   "source": [
    "def update_diagnosis(diagnosis, action, observation, states, T, O):\n",
    "    updated = {}\n",
    "    for s_prime in states:\n",
    "        prob_obs = O[action][s_prime][observation]\n",
    "        total = 0.0\n",
    "        for s in states:\n",
    "            total += T[action][s][s_prime] * diagnosis[s]\n",
    "        updated[s_prime] = prob_obs * total\n",
    "    # Normalize\n",
    "    total_prob = sum(updated.values())\n",
    "    for s in states:\n",
    "        updated[s] /= total_prob\n",
    "    return updated"
   ]
  },
  {
   "cell_type": "markdown",
   "id": "a876c61a",
   "metadata": {},
   "source": [
    "## Simulate One Action-Observation Cycle\n",
    "\n",
    "This step simulates what happens when the doctor takes an action:\n",
    "\n",
    "1. A **true state** is sampled based on the current diagnosis (probabilities over health states).\n",
    "2. The system transitions to a **resulting state** based on the transition model.\n",
    "3. An **observation** is generated based on the resulting state and the action taken.\n",
    "4. The doctor **updates their diagnosis** using Bayes' Rule, incorporating the new observation.\n",
    "\n",
    "This logic is implemented in the `simulate_step` function, which returns:\n",
    "- The previous (sampled) true state\n",
    "- The resulting state after transition\n",
    "- The generated observation\n",
    "- The updated diagnosis"
   ]
  },
  {
   "cell_type": "code",
   "execution_count": 5,
   "id": "1990e178",
   "metadata": {},
   "outputs": [],
   "source": [
    "import random\n",
    "\n",
    "def simulate_step(diagnosis, action, states, T, O):\n",
    "    # Sample a true resulting state based on current diagnosis and transition model\n",
    "    current_state = random.choices(states, weights=[diagnosis[s] for s in states])[0]\n",
    "    resulting_state = random.choices(\n",
    "        states,\n",
    "        weights=[T[action][current_state][s_prime] for s_prime in states]\n",
    "    )[0]\n",
    "\n",
    "    # Sample an observation based on the resulting state and action\n",
    "    obs_weights = [O[action][resulting_state][o] for o in observations]\n",
    "    observation = random.choices(observations, weights=obs_weights)[0]\n",
    "\n",
    "    # Update diagnosis\n",
    "    updated_diagnosis = update_diagnosis(diagnosis, action, observation, states, T, O)\n",
    "\n",
    "    return {\n",
    "        \"previous_state\": current_state,\n",
    "        \"resulting_state\": resulting_state,\n",
    "        \"observation\": observation,\n",
    "        \"updated_diagnosis\": updated_diagnosis\n",
    "    }"
   ]
  },
  {
   "cell_type": "markdown",
   "id": "31f0d009",
   "metadata": {},
   "source": [
    "## Running a Sample Simulation Step\n",
    "\n",
    "We start with an **initial diagnosis** (equal probability for all states) and simulate the outcome of taking the `\"OrderCTScan\"` action.\n",
    "\n",
    "The simulation prints:\n",
    "- The sampled previous state (hidden from doctor)\n",
    "- The resulting state after the transition\n",
    "- The observation received\n",
    "- The updated diagnosis (revised probabilities for each state)"
   ]
  },
  {
   "cell_type": "code",
   "execution_count": 6,
   "id": "8cfa1f16",
   "metadata": {},
   "outputs": [
    {
     "name": "stdout",
     "output_type": "stream",
     "text": [
      "Previous (sampled) true state: Cancer\n",
      "Resulting state after action: Cancer\n",
      "Observation received: SuspiciousFinding\n",
      "Updated diagnosis:\n",
      "  Healthy: 0.030\n",
      "  PreCancer: 0.424\n",
      "  Cancer: 0.545\n"
     ]
    }
   ],
   "source": [
    "# Initial diagnosis: uniform uncertainty\n",
    "initial_diagnosis = {\n",
    "    \"Healthy\": 1/3,\n",
    "    \"PreCancer\": 1/3,\n",
    "    \"Cancer\": 1/3\n",
    "}\n",
    "\n",
    "# Simulate one decision step using \"OrderCTScan\"\n",
    "result = simulate_step(initial_diagnosis, \"OrderCTScan\", states, T, O)\n",
    "\n",
    "# Print results\n",
    "print(\"Previous (sampled) true state:\", result[\"previous_state\"])\n",
    "print(\"Resulting state after action:\", result[\"resulting_state\"])\n",
    "print(\"Observation received:\", result[\"observation\"])\n",
    "print(\"Updated diagnosis:\")\n",
    "for state, prob in result[\"updated_diagnosis\"].items():\n",
    "    print(f\"  {state}: {prob:.3f}\")"
   ]
  }
 ],
 "metadata": {
  "kernelspec": {
   "display_name": "Python 3",
   "language": "python",
   "name": "python3"
  },
  "language_info": {
   "codemirror_mode": {
    "name": "ipython",
    "version": 3
   },
   "file_extension": ".py",
   "mimetype": "text/x-python",
   "name": "python",
   "nbconvert_exporter": "python",
   "pygments_lexer": "ipython3",
   "version": "3.8.8"
  }
 },
 "nbformat": 4,
 "nbformat_minor": 5
}
